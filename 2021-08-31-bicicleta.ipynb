{
  "nbformat": 4,
  "nbformat_minor": 0,
  "metadata": {
    "colab": {
      "name": "2021-08-31-bicicleta.ipynb",
      "provenance": [],
      "authorship_tag": "ABX9TyM85bSiMB1LAuR9wD0biEhY",
      "include_colab_link": true
    },
    "kernelspec": {
      "name": "python3",
      "display_name": "Python 3"
    },
    "language_info": {
      "name": "python"
    }
  },
  "cells": [
    {
      "cell_type": "markdown",
      "metadata": {
        "id": "view-in-github",
        "colab_type": "text"
      },
      "source": [
        "<a href=\"https://colab.research.google.com/github/marcosotDS/MeuPrimeiroRepositorio/blob/main/2021-08-31-bicicleta.ipynb\" target=\"_parent\"><img src=\"https://colab.research.google.com/assets/colab-badge.svg\" alt=\"Open In Colab\"/></a>"
      ]
    },
    {
      "cell_type": "code",
      "metadata": {
        "colab": {
          "base_uri": "https://localhost:8080/",
          "height": 129
        },
        "id": "hbxXu_sOXfEG",
        "outputId": "6d791d7d-c25c-4b73-ecff-600a05a93053"
      },
      "source": [
        "Nova Bicicleta\n",
        "Fotos colorizadas da nova Bicicleta\n",
        "\n",
        "toc: false\n",
        "branch: master\n",
        "badges: false\n",
        "comments: True\n",
        "author: Marcos Otani\n",
        "categories: [Bicicleta]"
      ],
      "execution_count": 3,
      "outputs": [
        {
          "output_type": "error",
          "ename": "SyntaxError",
          "evalue": "ignored",
          "traceback": [
            "\u001b[0;36m  File \u001b[0;32m\"<ipython-input-3-8528fec5d404>\"\u001b[0;36m, line \u001b[0;32m1\u001b[0m\n\u001b[0;31m    Nova Bicicleta\u001b[0m\n\u001b[0m                 ^\u001b[0m\n\u001b[0;31mSyntaxError\u001b[0m\u001b[0;31m:\u001b[0m invalid syntax\n"
          ]
        }
      ]
    },
    {
      "cell_type": "markdown",
      "metadata": {
        "id": "KPN-FXmoXhWv"
      },
      "source": [
        ""
      ]
    }
  ]
}